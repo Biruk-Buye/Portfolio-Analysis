{
 "cells": [
  {
   "cell_type": "code",
   "execution_count": 230,
   "id": "f87caa97-d98e-4ad1-9091-107fdeb08b52",
   "metadata": {},
   "outputs": [],
   "source": [
    "# importing all the libraries i need to complete the tasks in this challenge.\n",
    "import pandas as pd\n",
    "import numpy as np\n",
    "import seaborn as sns\n",
    "sns.set()\n",
    "from datetime import datetime, timedelta\n",
    "import matplotlib.pyplot as plt\n",
    "import sklearn.feature_selection as chi2\n",
    "import warnings\n",
    "warnings.filterwarnings('ignore')"
   ]
  },
  {
   "cell_type": "markdown",
   "id": "f740dc2d-1f63-474f-96d3-f6104574e5b2",
   "metadata": {},
   "source": [
    "# Exercise 1: Data Loading and Price Charting"
   ]
  },
  {
   "cell_type": "markdown",
   "id": "6fd8277f-f97d-4ea1-bdf8-959b3ac6d2ee",
   "metadata": {},
   "source": [
    "##### loading and analyzing financial data, which is foundational for effective portfolio management. Begin by loading the file named asset_price_data.csv, containing essential pricing information for various financial assets."
   ]
  },
  {
   "cell_type": "code",
   "execution_count": 123,
   "id": "8835fbbd-80c7-445c-8fd9-a34a11b4982f",
   "metadata": {},
   "outputs": [],
   "source": [
    "# importing the csv file and converting date column from 'object' type to 'datetime'.\n",
    "df = pd.read_csv('/Users/biruk/Documents/Ironhack/Portfolio Analysis/asset_price_data.csv', parse_dates=['date'], index_col='date')\n",
    "asset_price = df.copy()"
   ]
  },
  {
   "cell_type": "code",
   "execution_count": 125,
   "id": "05397383-cf1e-4d76-85c9-7d53ebe4fad8",
   "metadata": {},
   "outputs": [
    {
     "data": {
      "text/html": [
       "<div>\n",
       "<style scoped>\n",
       "    .dataframe tbody tr th:only-of-type {\n",
       "        vertical-align: middle;\n",
       "    }\n",
       "\n",
       "    .dataframe tbody tr th {\n",
       "        vertical-align: top;\n",
       "    }\n",
       "\n",
       "    .dataframe thead th {\n",
       "        text-align: right;\n",
       "    }\n",
       "</style>\n",
       "<table border=\"1\" class=\"dataframe\">\n",
       "  <thead>\n",
       "    <tr style=\"text-align: right;\">\n",
       "      <th></th>\n",
       "      <th>Asset1</th>\n",
       "      <th>Asset2</th>\n",
       "      <th>Asset3</th>\n",
       "      <th>Asset4</th>\n",
       "      <th>Asset5</th>\n",
       "    </tr>\n",
       "    <tr>\n",
       "      <th>date</th>\n",
       "      <th></th>\n",
       "      <th></th>\n",
       "      <th></th>\n",
       "      <th></th>\n",
       "      <th></th>\n",
       "    </tr>\n",
       "  </thead>\n",
       "  <tbody>\n",
       "    <tr>\n",
       "      <th>2019-01-02</th>\n",
       "      <td>231.5061</td>\n",
       "      <td>55.875</td>\n",
       "      <td>25.649222</td>\n",
       "      <td>302.93</td>\n",
       "      <td>50.89</td>\n",
       "    </tr>\n",
       "    <tr>\n",
       "      <th>2019-01-03</th>\n",
       "      <td>231.0356</td>\n",
       "      <td>54.977</td>\n",
       "      <td>25.503047</td>\n",
       "      <td>302.11</td>\n",
       "      <td>50.41</td>\n",
       "    </tr>\n",
       "  </tbody>\n",
       "</table>\n",
       "</div>"
      ],
      "text/plain": [
       "              Asset1  Asset2     Asset3  Asset4  Asset5\n",
       "date                                                   \n",
       "2019-01-02  231.5061  55.875  25.649222  302.93   50.89\n",
       "2019-01-03  231.0356  54.977  25.503047  302.11   50.41"
      ]
     },
     "execution_count": 125,
     "metadata": {},
     "output_type": "execute_result"
    }
   ],
   "source": [
    "asset_price.head(2)"
   ]
  },
  {
   "cell_type": "code",
   "execution_count": 139,
   "id": "9a44b3e3-d8e3-4b05-9cc5-f7bd0c21ebdc",
   "metadata": {},
   "outputs": [
    {
     "name": "stdout",
     "output_type": "stream",
     "text": [
      "<class 'pandas.core.frame.DataFrame'>\n",
      "DatetimeIndex: 783 entries, 2019-01-02 to 2021-12-31\n",
      "Data columns (total 5 columns):\n",
      " #   Column  Non-Null Count  Dtype  \n",
      "---  ------  --------------  -----  \n",
      " 0   Asset1  770 non-null    float64\n",
      " 1   Asset2  770 non-null    float64\n",
      " 2   Asset3  770 non-null    float64\n",
      " 3   Asset4  734 non-null    float64\n",
      " 4   Asset5  763 non-null    float64\n",
      "dtypes: float64(5)\n",
      "memory usage: 52.9 KB\n"
     ]
    }
   ],
   "source": [
    "asset_price.info()"
   ]
  },
  {
   "cell_type": "code",
   "execution_count": 164,
   "id": "7f170ba1-a298-4400-90f7-4d22acb553ed",
   "metadata": {},
   "outputs": [
    {
     "data": {
      "text/plain": [
       "Asset1    248.980482\n",
       "Asset2     76.075978\n",
       "Asset3     31.463502\n",
       "Asset4    327.336098\n",
       "Asset5     54.123198\n",
       "dtype: float64"
      ]
     },
     "execution_count": 164,
     "metadata": {},
     "output_type": "execute_result"
    }
   ],
   "source": [
    "# Assets prices average from 1 - 5 from the biging of 2019 to the end of 2021.\n",
    "asset_price['2019-01-01':'2021-12-30'].mean()"
   ]
  },
  {
   "cell_type": "markdown",
   "id": "c9ddb948-a3d7-42d3-aaf7-cec926e03b0a",
   "metadata": {},
   "source": [
    "##### Post data loading, your objective is to visualize this data through a time series graph. The integrity of your analysis depends heavily on your ability to visualize trends accurately while ensuring all asset price series begin at a uniform value."
   ]
  },
  {
   "cell_type": "code",
   "execution_count": 166,
   "id": "a6267b16-cab3-4fbf-97fa-942d306aa671",
   "metadata": {},
   "outputs": [
    {
     "data": {
      "text/plain": [
       "<Axes: xlabel='date'>"
      ]
     },
     "execution_count": 166,
     "metadata": {},
     "output_type": "execute_result"
    },
    {
     "data": {
      "image/png": "[encoded data removed]",
      "text/plain": [
       "<Figure size 640x480 with 1 Axes>"
      ]
     },
     "metadata": {},
     "output_type": "display_data"
    }
   ],
   "source": [
    "# Assets prices average in a quarterly base from 1 - 5 from the biging of 2019 to the end of 2021.\n",
    "%matplotlib inline\n",
    "asset_price.Asset1.resample('Q').mean().plot()"
   ]
  },
  {
   "cell_type": "markdown",
   "id": "e3519c24-e825-4165-b6f7-c1f94b1bcab9",
   "metadata": {},
   "source": [
    "# Exercise 2: Daily Percentage Returns"
   ]
  },
  {
   "cell_type": "markdown",
   "id": "1836e1d1-1841-4f94-8c9f-b20551b0d302",
   "metadata": {},
   "source": [
    "##### You are required to calculate the daily percentage returns for each financial asset. Utilize this data to accomplish the following:\n",
    "\n",
    "###### Calculate the correlation matrix for the five assets.\n",
    "###### Create a scatter plot comparing the returns of two specific assets."
   ]
  },
  {
   "cell_type": "code",
   "execution_count": 190,
   "id": "76b48a7e-b7a1-45c5-a02f-6462081584ce",
   "metadata": {},
   "outputs": [
    {
     "data": {
      "text/html": [
       "<div>\n",
       "<style scoped>\n",
       "    .dataframe tbody tr th:only-of-type {\n",
       "        vertical-align: middle;\n",
       "    }\n",
       "\n",
       "    .dataframe tbody tr th {\n",
       "        vertical-align: top;\n",
       "    }\n",
       "\n",
       "    .dataframe thead th {\n",
       "        text-align: right;\n",
       "    }\n",
       "</style>\n",
       "<table border=\"1\" class=\"dataframe\">\n",
       "  <thead>\n",
       "    <tr style=\"text-align: right;\">\n",
       "      <th></th>\n",
       "      <th>Asset1</th>\n",
       "      <th>Asset2</th>\n",
       "      <th>Asset3</th>\n",
       "      <th>Asset4</th>\n",
       "      <th>Asset5</th>\n",
       "    </tr>\n",
       "  </thead>\n",
       "  <tbody>\n",
       "    <tr>\n",
       "      <th>Asset1</th>\n",
       "      <td>1.00</td>\n",
       "      <td>0.50</td>\n",
       "      <td>0.37</td>\n",
       "      <td>0.57</td>\n",
       "      <td>0.07</td>\n",
       "    </tr>\n",
       "    <tr>\n",
       "      <th>Asset2</th>\n",
       "      <td>0.50</td>\n",
       "      <td>1.00</td>\n",
       "      <td>0.91</td>\n",
       "      <td>0.88</td>\n",
       "      <td>0.83</td>\n",
       "    </tr>\n",
       "    <tr>\n",
       "      <th>Asset3</th>\n",
       "      <td>0.37</td>\n",
       "      <td>0.91</td>\n",
       "      <td>1.00</td>\n",
       "      <td>0.88</td>\n",
       "      <td>0.87</td>\n",
       "    </tr>\n",
       "    <tr>\n",
       "      <th>Asset4</th>\n",
       "      <td>0.57</td>\n",
       "      <td>0.88</td>\n",
       "      <td>0.88</td>\n",
       "      <td>1.00</td>\n",
       "      <td>0.78</td>\n",
       "    </tr>\n",
       "    <tr>\n",
       "      <th>Asset5</th>\n",
       "      <td>0.07</td>\n",
       "      <td>0.83</td>\n",
       "      <td>0.87</td>\n",
       "      <td>0.78</td>\n",
       "      <td>1.00</td>\n",
       "    </tr>\n",
       "  </tbody>\n",
       "</table>\n",
       "</div>"
      ],
      "text/plain": [
       "        Asset1  Asset2  Asset3  Asset4  Asset5\n",
       "Asset1    1.00    0.50    0.37    0.57    0.07\n",
       "Asset2    0.50    1.00    0.91    0.88    0.83\n",
       "Asset3    0.37    0.91    1.00    0.88    0.87\n",
       "Asset4    0.57    0.88    0.88    1.00    0.78\n",
       "Asset5    0.07    0.83    0.87    0.78    1.00"
      ]
     },
     "execution_count": 190,
     "metadata": {},
     "output_type": "execute_result"
    }
   ],
   "source": [
    "my_matrix = asset_price.corr().round(2)\n",
    "my_matrix"
   ]
  },
  {
   "cell_type": "code",
   "execution_count": 206,
   "id": "c5b4342b-72a2-4534-bd29-4d8fb117bb3e",
   "metadata": {},
   "outputs": [
    {
     "data": {
      "image/png": "[encoded data removed]",
      "text/plain": [
       "<Figure size 640x480 with 1 Axes>"
      ]
     },
     "metadata": {},
     "output_type": "display_data"
    }
   ],
   "source": [
    "# Comparing Asset1 and Asset2 in a scatter plot.\n",
    "asset_price.plot(kind='scatter', x='Asset1',y='Asset2')\n",
    "plt.show()"
   ]
  },
  {
   "cell_type": "markdown",
   "id": "a0f276cd-25db-4049-bd59-f036c46203e2",
   "metadata": {},
   "source": [
    "# Exercise 3: Portfolio Analysis"
   ]
  },
  {
   "cell_type": "markdown",
   "id": "44715386-9491-49d5-bb37-ced8a400ce88",
   "metadata": {},
   "source": [
    "##### This third exercise focuses on calculating and analyzing the performance of a portfolio. Begin by loading the file named portfolio_weights.csv, which contains the daily weights of each asset in the portfolio."
   ]
  },
  {
   "cell_type": "code",
   "execution_count": 316,
   "id": "e393cde1-9042-4d35-9f3f-618a8625883a",
   "metadata": {},
   "outputs": [],
   "source": [
    "# importing the csv file and converting date column from 'object' type to 'datetime'.\n",
    "df = pd.read_csv('/Users/biruk/Documents/Ironhack/Portfolio Analysis/portfolio_weights.csv', parse_dates=['date'])\n",
    "portfolio_weights = df.copy()"
   ]
  },
  {
   "cell_type": "code",
   "execution_count": 318,
   "id": "ea80b9d0-3f95-4bd6-99c0-343b4197f5af",
   "metadata": {},
   "outputs": [
    {
     "data": {
      "text/html": [
       "<div>\n",
       "<style scoped>\n",
       "    .dataframe tbody tr th:only-of-type {\n",
       "        vertical-align: middle;\n",
       "    }\n",
       "\n",
       "    .dataframe tbody tr th {\n",
       "        vertical-align: top;\n",
       "    }\n",
       "\n",
       "    .dataframe thead th {\n",
       "        text-align: right;\n",
       "    }\n",
       "</style>\n",
       "<table border=\"1\" class=\"dataframe\">\n",
       "  <thead>\n",
       "    <tr style=\"text-align: right;\">\n",
       "      <th></th>\n",
       "      <th>date</th>\n",
       "      <th>Asset1</th>\n",
       "      <th>Asset2</th>\n",
       "      <th>Asset3</th>\n",
       "      <th>Asset4</th>\n",
       "      <th>Asset5</th>\n",
       "    </tr>\n",
       "  </thead>\n",
       "  <tbody>\n",
       "    <tr>\n",
       "      <th>0</th>\n",
       "      <td>2019-01-02</td>\n",
       "      <td>0.225458</td>\n",
       "      <td>0.116255</td>\n",
       "      <td>0.265003</td>\n",
       "      <td>0.23031</td>\n",
       "      <td>0.162974</td>\n",
       "    </tr>\n",
       "    <tr>\n",
       "      <th>1</th>\n",
       "      <td>2019-01-03</td>\n",
       "      <td>0.225458</td>\n",
       "      <td>0.116255</td>\n",
       "      <td>0.265003</td>\n",
       "      <td>0.23031</td>\n",
       "      <td>0.162974</td>\n",
       "    </tr>\n",
       "  </tbody>\n",
       "</table>\n",
       "</div>"
      ],
      "text/plain": [
       "        date    Asset1    Asset2    Asset3   Asset4    Asset5\n",
       "0 2019-01-02  0.225458  0.116255  0.265003  0.23031  0.162974\n",
       "1 2019-01-03  0.225458  0.116255  0.265003  0.23031  0.162974"
      ]
     },
     "execution_count": 318,
     "metadata": {},
     "output_type": "execute_result"
    }
   ],
   "source": [
    "portfolio_weights.head(2)"
   ]
  },
  {
   "cell_type": "markdown",
   "id": "4ac9040f-e4d8-4dc8-a5fa-64eb2c4a10c2",
   "metadata": {},
   "source": [
    "##### Create an area chart of the asset weights."
   ]
  },
  {
   "cell_type": "code",
   "execution_count": 333,
   "id": "ae064798-1512-4dd6-83ff-b53340a90cfb",
   "metadata": {},
   "outputs": [
    {
     "data": {
      "image/png": "[encoded data removed]",
      "text/plain": [
       "<Figure size 800x400 with 1 Axes>"
      ]
     },
     "metadata": {},
     "output_type": "display_data"
    }
   ],
   "source": [
    "colors = ['#011638', '#7e2987', '#ef2026']\n",
    "labels = ['Assets weights']\n",
    "plt.figure(figsize = (8, 4))\n",
    "plt.stackplot(portfolio_weights['date'],\n",
    "              portfolio_weights['Asset1'],\n",
    "              portfolio_weights['Asset2'],\n",
    "              portfolio_weights['Asset3'],\n",
    "              portfolio_weights['Asset4'],\n",
    "              portfolio_weights['Asset5'],\n",
    "             colors = colors,\n",
    "             edgecolor = 'none')\n",
    "plt.xticks(rotation = 45)\n",
    "\n",
    "plt.show()"
   ]
  },
  {
   "cell_type": "markdown",
   "id": "dfc23e94-3820-494d-a32e-d4debed4f8be",
   "metadata": {},
   "source": [
    "##### Plot the historical cumulative returns of the portfolio."
   ]
  },
  {
   "cell_type": "code",
   "execution_count": null,
   "id": "1e0a37ad-5c17-45f5-a85d-2ad55e554d2f",
   "metadata": {},
   "outputs": [],
   "source": []
  },
  {
   "cell_type": "markdown",
   "id": "49bfda0b-b065-4ad1-919c-f0af1d6c46b4",
   "metadata": {},
   "source": [
    "##### Calculate the annualized return of the portfolio."
   ]
  },
  {
   "cell_type": "code",
   "execution_count": null,
   "id": "e9290883-81db-4c99-84fa-acb167905465",
   "metadata": {},
   "outputs": [],
   "source": []
  },
  {
   "cell_type": "markdown",
   "id": "b12d1b8a-2063-49d6-bc85-532b146bd55f",
   "metadata": {},
   "source": [
    "##### Determine the annualized volatility of the portfolio (using an annualization factor of 261 days)."
   ]
  },
  {
   "cell_type": "markdown",
   "id": "eee75063-3795-4918-a8e9-b8b21bf4ed32",
   "metadata": {},
   "source": [
    "##### Produce an area chart grouping asset weights by their categories, as detailed in the asset_information_data.csv."
   ]
  },
  {
   "cell_type": "code",
   "execution_count": 339,
   "id": "57d203df-8ae9-494d-9da7-76c358f8aa11",
   "metadata": {},
   "outputs": [],
   "source": [
    "df = pd.read_csv('/Users/biruk/Documents/Ironhack/Portfolio Analysis/asset_information_data.csv')\n",
    "asset_information = df.copy()"
   ]
  },
  {
   "cell_type": "code",
   "execution_count": 345,
   "id": "94bf6408-4d02-4223-b43e-de3fa46c795b",
   "metadata": {},
   "outputs": [
    {
     "data": {
      "text/html": [
       "<div>\n",
       "<style scoped>\n",
       "    .dataframe tbody tr th:only-of-type {\n",
       "        vertical-align: middle;\n",
       "    }\n",
       "\n",
       "    .dataframe tbody tr th {\n",
       "        vertical-align: top;\n",
       "    }\n",
       "\n",
       "    .dataframe thead th {\n",
       "        text-align: right;\n",
       "    }\n",
       "</style>\n",
       "<table border=\"1\" class=\"dataframe\">\n",
       "  <thead>\n",
       "    <tr style=\"text-align: right;\">\n",
       "      <th></th>\n",
       "      <th>Name</th>\n",
       "      <th>Family</th>\n",
       "    </tr>\n",
       "  </thead>\n",
       "  <tbody>\n",
       "    <tr>\n",
       "      <th>0</th>\n",
       "      <td>Asset1</td>\n",
       "      <td>Fixed Income</td>\n",
       "    </tr>\n",
       "    <tr>\n",
       "      <th>1</th>\n",
       "      <td>Asset2</td>\n",
       "      <td>Fixed Income</td>\n",
       "    </tr>\n",
       "    <tr>\n",
       "      <th>2</th>\n",
       "      <td>Asset3</td>\n",
       "      <td>Equity</td>\n",
       "    </tr>\n",
       "    <tr>\n",
       "      <th>3</th>\n",
       "      <td>Asset4</td>\n",
       "      <td>Equity</td>\n",
       "    </tr>\n",
       "    <tr>\n",
       "      <th>4</th>\n",
       "      <td>Asset5</td>\n",
       "      <td>Alternative</td>\n",
       "    </tr>\n",
       "  </tbody>\n",
       "</table>\n",
       "</div>"
      ],
      "text/plain": [
       "     Name        Family\n",
       "0  Asset1  Fixed Income\n",
       "1  Asset2  Fixed Income\n",
       "2  Asset3        Equity\n",
       "3  Asset4        Equity\n",
       "4  Asset5   Alternative"
      ]
     },
     "execution_count": 345,
     "metadata": {},
     "output_type": "execute_result"
    }
   ],
   "source": [
    "asset_information.head()"
   ]
  },
  {
   "cell_type": "code",
   "execution_count": 349,
   "id": "c5247f52-e8cf-4416-8589-5355a5eb5a5d",
   "metadata": {},
   "outputs": [
    {
     "data": {
      "image/png": "[encoded data removed]",
      "text/plain": [
       "<Figure size 800x400 with 1 Axes>"
      ]
     },
     "metadata": {},
     "output_type": "display_data"
    }
   ],
   "source": [
    "plt.figure(figsize = (8, 4))\n",
    "plt.stackplot(asset_information['Name'],\n",
    "              asset_information['Family'],\n",
    "              edgecolor = 'none')\n",
    "plt.xticks(rotation = 45)\n",
    "\n",
    "plt.show()"
   ]
  }
 ],
 "metadata": {
  "kernelspec": {
   "display_name": "Python 3 (ipykernel)",
   "language": "python",
   "name": "python3"
  },
  "language_info": {
   "codemirror_mode": {
    "name": "ipython",
    "version": 3
   },
   "file_extension": ".py",
   "mimetype": "text/x-python",
   "name": "python",
   "nbconvert_exporter": "python",
   "pygments_lexer": "ipython3",
   "version": "3.12.4"
  }
 },
 "nbformat": 4,
 "nbformat_minor": 5
}
